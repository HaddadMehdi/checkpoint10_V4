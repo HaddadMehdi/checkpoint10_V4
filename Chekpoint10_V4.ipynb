{
 "cells": [
  {
   "cell_type": "code",
   "execution_count": 1,
   "id": "c6b27fb5-94fa-4f7b-91f8-e5de06647531",
   "metadata": {},
   "outputs": [],
   "source": [
    "#******************************  Countdown Timer\n",
    "import time \n",
    "  \n",
    "def countdown(t): \n",
    "    \n",
    "    while t: \n",
    "        mins, secs = divmod(t, 60) \n",
    "        timer = '{:02d}:{:02d}'.format(mins, secs) \n",
    "        print(timer, end=\"\\r\") \n",
    "        time.sleep(1) \n",
    "        t -= 1\n",
    "      \n",
    "    print('Fire in the hole!!') "
   ]
  },
  {
   "cell_type": "code",
   "execution_count": 2,
   "id": "160c286a-e671-4ac2-81bd-515ce287796e",
   "metadata": {},
   "outputs": [
    {
     "name": "stdin",
     "output_type": "stream",
     "text": [
      "Enter the time in seconds:  45\n"
     ]
    },
    {
     "name": "stdout",
     "output_type": "stream",
     "text": [
      "Fire in the hole!!\n"
     ]
    }
   ],
   "source": [
    "t = input(\"Enter the time in seconds: \") \n",
    "  \n",
    "countdown(int(t)) "
   ]
  },
  {
   "cell_type": "code",
   "execution_count": null,
   "id": "49db69e4-eb50-4732-a4bf-7c0828b23fc8",
   "metadata": {},
   "outputs": [],
   "source": []
  }
 ],
 "metadata": {
  "kernelspec": {
   "display_name": "Python 3 (ipykernel)",
   "language": "python",
   "name": "python3"
  },
  "language_info": {
   "codemirror_mode": {
    "name": "ipython",
    "version": 3
   },
   "file_extension": ".py",
   "mimetype": "text/x-python",
   "name": "python",
   "nbconvert_exporter": "python",
   "pygments_lexer": "ipython3",
   "version": "3.9.7"
  }
 },
 "nbformat": 4,
 "nbformat_minor": 5
}
